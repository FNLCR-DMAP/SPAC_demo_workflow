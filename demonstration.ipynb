{
 "cells": [
  {
   "cell_type": "code",
   "execution_count": 1,
   "metadata": {},
   "outputs": [
    {
     "name": "stderr",
     "output_type": "stream",
     "text": [
      "/data/BIDS-HPC/private/conda/envs/spac_demo_v07/lib/python3.10/site-packages/tqdm/auto.py:21: TqdmWarning: IProgress not found. Please update jupyter and ipywidgets. See https://ipywidgets.readthedocs.io/en/stable/user_install.html\n",
      "  from .autonotebook import tqdm as notebook_tqdm\n"
     ]
    }
   ],
   "source": [
    "# Import functions from modules in the spac package\n",
    "from spac.data_utils import *\n",
    "from spac.transformations import *\n",
    "from spac.visualization import *\n",
    "from spac.spatial_analysis import *"
   ]
  },
  {
   "cell_type": "code",
   "execution_count": 2,
   "metadata": {},
   "outputs": [
    {
     "name": "stderr",
     "output_type": "stream",
     "text": [
      "2024-08-08 20:05:43,951 - INFO - CSVs are converted into dataframes and combined into a list!\n",
      "2024-08-08 20:05:43,952 - INFO - Total of 1 dataframes in the list.\n",
      "2024-08-08 20:05:43,953 - INFO - File name: SPAC_Synthetic_Example.csv\n",
      "2024-08-08 20:05:43,954 - INFO - Info: \n",
      "2024-08-08 20:05:43,966 - INFO - None\n",
      "2024-08-08 20:05:43,967 - INFO - Description: \n",
      "2024-08-08 20:05:43,991 - INFO -               XMin         YMin         XMax         YMax  Marker 1 Intensity  \\\n",
      "count  4000.000000  4000.000000  4000.000000  4000.000000         4000.000000   \n",
      "mean     15.023263    27.503914    35.001047    47.485636           54.968939   \n",
      "std      10.075772    22.520211    10.067823    22.526520           45.013052   \n",
      "min       2.010295     1.830543    21.849440    22.012755            6.807492   \n",
      "25%       4.968221     5.011522    24.988489    24.982587            9.966993   \n",
      "50%      15.295660    27.223661    34.973920    47.365072           54.940240   \n",
      "75%      25.078264    50.011596    45.036161    70.017632           99.972885   \n",
      "max      28.542635    53.191106    48.453450    74.056078          102.764552   \n",
      "\n",
      "       Marker 2 Intensity  Marker 3 Intensity  Immuno Cells  Normal Cells  \\\n",
      "count         4000.000000         4000.000000   4000.000000   4000.000000   \n",
      "mean            55.011657           49.991650      0.347750      0.312250   \n",
      "std             45.034212            1.013340      0.476316      0.463469   \n",
      "min              6.542487           46.112617      0.000000      0.000000   \n",
      "25%             10.000562           49.318109      0.000000      0.000000   \n",
      "50%             55.108947           50.012045      0.000000      0.000000   \n",
      "75%            100.029091           50.643746      1.000000      1.000000   \n",
      "max            103.189164           53.771186      1.000000      1.000000   \n",
      "\n",
      "       Cancer Cells  \n",
      "count   4000.000000  \n",
      "mean       0.340000  \n",
      "std        0.473768  \n",
      "min        0.000000  \n",
      "25%        0.000000  \n",
      "50%        0.000000  \n",
      "75%        1.000000  \n",
      "max        1.000000  \n",
      "2024-08-08 20:05:43,998 - INFO - \n",
      "\n",
      "2024-08-08 20:05:43,999 - INFO - Combining Dataframes into Single Dataframe...\n"
     ]
    },
    {
     "name": "stdout",
     "output_type": "stream",
     "text": [
      "<class 'pandas.core.frame.DataFrame'>\n",
      "RangeIndex: 4000 entries, 0 to 3999\n",
      "Data columns (total 12 columns):\n",
      " #   Column              Non-Null Count  Dtype  \n",
      "---  ------              --------------  -----  \n",
      " 0   file_name           4000 non-null   object \n",
      " 1   XMin                4000 non-null   float64\n",
      " 2   YMin                4000 non-null   float64\n",
      " 3   XMax                4000 non-null   float64\n",
      " 4   YMax                4000 non-null   float64\n",
      " 5   Marker 1 Intensity  4000 non-null   float64\n",
      " 6   Marker 2 Intensity  4000 non-null   float64\n",
      " 7   Marker 3 Intensity  4000 non-null   float64\n",
      " 8   Immuno Cells        4000 non-null   int64  \n",
      " 9   Normal Cells        4000 non-null   int64  \n",
      " 10  Cancer Cells        4000 non-null   int64  \n",
      " 11  loaded_file_name    4000 non-null   object \n",
      "dtypes: float64(7), int64(3), object(2)\n",
      "memory usage: 375.1+ KB\n"
     ]
    }
   ],
   "source": [
    "# Step 1: Load CSV files\n",
    "file_names = ['SPAC_Synthetic_Example.csv']\n",
    "data = load_csv_files(file_names)"
   ]
  },
  {
   "cell_type": "code",
   "execution_count": 3,
   "metadata": {},
   "outputs": [
    {
     "name": "stderr",
     "output_type": "stream",
     "text": [
      "2024-08-08 20:05:44,012 - INFO - Summary of returned dataset: 1000 cells match the selected labels.\n",
      "2024-08-08 20:05:44,015 - INFO - Summary of returned dataset: 1000 cells match the selected labels.\n",
      "2024-08-08 20:05:44,018 - INFO - Summary of returned dataset: 1000 cells match the selected labels.\n",
      "2024-08-08 20:05:44,020 - INFO - Summary of returned dataset: 1000 cells match the selected labels.\n"
     ]
    },
    {
     "name": "stdout",
     "output_type": "stream",
     "text": [
      "Subsetting data for Halo_Synthetic_Example_1\n",
      "Subsetting data for Halo_Synthetic_Example_2\n",
      "Subsetting data for Halo_Synthetic_Example_3\n",
      "Subsetting data for Halo_Synthetic_Example_4\n"
     ]
    }
   ],
   "source": [
    "# Step 2: Select values based on file name\n",
    "# Subset data for each file name\n",
    "subsets = []\n",
    "slide_identifier_column = 'file_name'\n",
    "unique_file_names = data[slide_identifier_column].unique()\n",
    "for file_name in unique_file_names:\n",
    "    print(f'Subsetting data for {file_name}')\n",
    "    subset = select_values(data, annotation=slide_identifier_column, values=[file_name])\n",
    "    subsets.append(subset)"
   ]
  },
  {
   "cell_type": "code",
   "execution_count": 4,
   "metadata": {},
   "outputs": [],
   "source": [
    "# Step 3: Append new annotations to each subset\n",
    "# Create a dictionary with file-specific labels\n",
    "annotations_for_file=[\n",
    "    {'slide': '1', 'animal': 'A'},\n",
    "    {'slide': '2', 'animal': 'B'},\n",
    "    {'slide': '3', 'animal': 'C'},\n",
    "    {'slide': '4', 'animal': 'D'},\n",
    "]\n",
    "\n",
    "for i, subset in enumerate(subsets):\n",
    "    subset = append_annotation(subset, annotations_for_file[i])\n"
   ]
  },
  {
   "cell_type": "code",
   "execution_count": 5,
   "metadata": {},
   "outputs": [
    {
     "name": "stdout",
     "output_type": "stream",
     "text": [
      "<class 'pandas.core.frame.DataFrame'>\n",
      "RangeIndex: 4000 entries, 0 to 3999\n",
      "Data columns (total 14 columns):\n",
      " #   Column              Non-Null Count  Dtype  \n",
      "---  ------              --------------  -----  \n",
      " 0   file_name           4000 non-null   object \n",
      " 1   XMin                4000 non-null   float64\n",
      " 2   YMin                4000 non-null   float64\n",
      " 3   XMax                4000 non-null   float64\n",
      " 4   YMax                4000 non-null   float64\n",
      " 5   Marker 1 Intensity  4000 non-null   float64\n",
      " 6   Marker 2 Intensity  4000 non-null   float64\n",
      " 7   Marker 3 Intensity  4000 non-null   float64\n",
      " 8   Immuno Cells        4000 non-null   int64  \n",
      " 9   Normal Cells        4000 non-null   int64  \n",
      " 10  Cancer Cells        4000 non-null   int64  \n",
      " 11  loaded_file_name    4000 non-null   object \n",
      " 12  slide               4000 non-null   object \n",
      " 13  animal              4000 non-null   object \n",
      "dtypes: float64(7), int64(3), object(4)\n",
      "memory usage: 437.6+ KB\n"
     ]
    }
   ],
   "source": [
    "# Step 4: Combine the subsets back into a single DataFrame\n",
    "combined_data = combine_dfs(subsets)\n",
    "combined_data.info()"
   ]
  },
  {
   "cell_type": "code",
   "execution_count": 6,
   "metadata": {},
   "outputs": [
    {
     "name": "stdout",
     "output_type": "stream",
     "text": [
      "Immuno Cells\n",
      "Normal Cells\n",
      "Cancer Cells\n",
      "<class 'pandas.core.frame.DataFrame'>\n",
      "RangeIndex: 4000 entries, 0 to 3999\n",
      "Data columns (total 15 columns):\n",
      " #   Column              Non-Null Count  Dtype  \n",
      "---  ------              --------------  -----  \n",
      " 0   file_name           4000 non-null   object \n",
      " 1   XMin                4000 non-null   float64\n",
      " 2   YMin                4000 non-null   float64\n",
      " 3   XMax                4000 non-null   float64\n",
      " 4   YMax                4000 non-null   float64\n",
      " 5   Marker 1 Intensity  4000 non-null   float64\n",
      " 6   Marker 2 Intensity  4000 non-null   float64\n",
      " 7   Marker 3 Intensity  4000 non-null   float64\n",
      " 8   Immuno Cells        4000 non-null   int64  \n",
      " 9   Normal Cells        4000 non-null   int64  \n",
      " 10  Cancer Cells        4000 non-null   int64  \n",
      " 11  loaded_file_name    4000 non-null   object \n",
      " 12  slide               4000 non-null   object \n",
      " 13  animal              4000 non-null   object \n",
      " 14  cell_type           4000 non-null   object \n",
      "dtypes: float64(7), int64(3), object(5)\n",
      "memory usage: 468.9+ KB\n"
     ]
    }
   ],
   "source": [
    "# Step 5: Convert binary columns to a categorical column\n",
    "binary_columns = ['Immuno Cells', 'Normal Cells', 'Cancer Cells']\n",
    "new_annotation = 'cell_type'\n",
    "combined_data = bin2cat(combined_data, binary_columns, new_annotation)\n",
    "combined_data.info()"
   ]
  },
  {
   "cell_type": "code",
   "execution_count": 7,
   "metadata": {},
   "outputs": [
    {
     "name": "stdout",
     "output_type": "stream",
     "text": [
      "<class 'pandas.core.frame.DataFrame'>\n",
      "RangeIndex: 4000 entries, 0 to 3999\n",
      "Data columns (total 17 columns):\n",
      " #   Column              Non-Null Count  Dtype  \n",
      "---  ------              --------------  -----  \n",
      " 0   file_name           4000 non-null   object \n",
      " 1   XMin                4000 non-null   float64\n",
      " 2   YMin                4000 non-null   float64\n",
      " 3   XMax                4000 non-null   float64\n",
      " 4   YMax                4000 non-null   float64\n",
      " 5   Marker 1 Intensity  4000 non-null   float64\n",
      " 6   Marker 2 Intensity  4000 non-null   float64\n",
      " 7   Marker 3 Intensity  4000 non-null   float64\n",
      " 8   Immuno Cells        4000 non-null   int64  \n",
      " 9   Normal Cells        4000 non-null   int64  \n",
      " 10  Cancer Cells        4000 non-null   int64  \n",
      " 11  loaded_file_name    4000 non-null   object \n",
      " 12  slide               4000 non-null   object \n",
      " 13  animal              4000 non-null   object \n",
      " 14  cell_type           4000 non-null   object \n",
      " 15  X_Centroid          4000 non-null   float64\n",
      " 16  Y_Centroid          4000 non-null   float64\n",
      "dtypes: float64(9), int64(3), object(5)\n",
      "memory usage: 531.4+ KB\n"
     ]
    }
   ],
   "source": [
    "# Step 6: Calculate centroids for each cell\n",
    "x_min_col = 'XMin'  # replace with your actual column name\n",
    "x_max_col = 'XMin'  # replace with your actual column name\n",
    "y_min_col = 'YMin'  # replace with your actual column name\n",
    "y_max_col = 'YMax'  # replace with your actual column name\n",
    "x_centroid = 'X_Centroid'\n",
    "y_centroid = 'Y_Centroid'\n",
    "\n",
    "combined_data = calculate_centroid(\n",
    "    combined_data,\n",
    "    x_min=x_min_col,\n",
    "    x_max=x_max_col,\n",
    "    y_min=y_min_col,\n",
    "    y_max=y_max_col,\n",
    "    new_x=x_centroid,\n",
    "    new_y=y_centroid\n",
    ")\n",
    "\n",
    "combined_data.info()\n"
   ]
  },
  {
   "cell_type": "code",
   "execution_count": 8,
   "metadata": {},
   "outputs": [
    {
     "name": "stdout",
     "output_type": "stream",
     "text": [
      "Marker 1 Intensity\n",
      "Marker 2 Intensity\n",
      "Marker 3 Intensity\n",
      "AnnData object with n_obs × n_vars = 4000 × 3\n",
      "    obs: 'slide', 'animal', 'cell_type'\n",
      "    obsm: 'spatial'\n"
     ]
    },
    {
     "name": "stderr",
     "output_type": "stream",
     "text": [
      "/data/BIDS-HPC/private/conda/envs/spac_demo_v07/lib/python3.10/site-packages/anndata/_core/anndata.py:121: ImplicitModificationWarning: Transforming to str index.\n",
      "  warnings.warn(\"Transforming to str index.\", ImplicitModificationWarning)\n"
     ]
    }
   ],
   "source": [
    "# Step 6: Select and prepare columns for analysis\n",
    "intensity_columns = [col for col in combined_data.columns if col.startswith('Marker')]\n",
    "\n",
    "# Columns for centroid calculations and other necessary metadata\n",
    "x_col = x_centroid\n",
    "y_col = y_centroid\n",
    "annotation_columns = ['slide', 'animal', 'cell_type']\n",
    "\n",
    "# Ingest the data into an AnnData object\n",
    "adata = ingest_cells(\n",
    "    dataframe=combined_data,\n",
    "    regex_str=intensity_columns,\n",
    "    x_col=x_col,\n",
    "    y_col=y_col,\n",
    "    annotation=annotation_columns\n",
    ")\n",
    "\n",
    "print(adata)"
   ]
  },
  {
   "cell_type": "code",
   "execution_count": null,
   "metadata": {},
   "outputs": [],
   "source": []
  },
  {
   "cell_type": "code",
   "execution_count": null,
   "metadata": {},
   "outputs": [],
   "source": []
  }
 ],
 "metadata": {
  "kernelspec": {
   "display_name": "Python 3",
   "language": "python",
   "name": "python3"
  },
  "language_info": {
   "codemirror_mode": {
    "name": "ipython",
    "version": 3
   },
   "file_extension": ".py",
   "mimetype": "text/x-python",
   "name": "python",
   "nbconvert_exporter": "python",
   "pygments_lexer": "ipython3",
   "version": "3.10.14"
  }
 },
 "nbformat": 4,
 "nbformat_minor": 2
}
